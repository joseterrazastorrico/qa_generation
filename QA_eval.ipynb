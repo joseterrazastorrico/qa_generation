{
 "cells": [
  {
   "cell_type": "code",
   "execution_count": 2,
   "metadata": {},
   "outputs": [
    {
     "data": {
      "text/plain": [
       "True"
      ]
     },
     "execution_count": 2,
     "metadata": {},
     "output_type": "execute_result"
    }
   ],
   "source": [
    "import pandas as pd\n",
    "import re\n",
    "\n",
    "from langchain_anthropic import ChatAnthropic\n",
    "from langchain.embeddings import HuggingFaceEmbeddings\n",
    "\n",
    "from agents.vectorstore import Vectorstore\n",
    "from agents.qa_generation.qa_generation import QAGeneration\n",
    "from agents.qa_eval_context.qa_eval_context import QAContextEval\n",
    "\n",
    "from dotenv import load_dotenv\n",
    "load_dotenv()"
   ]
  },
  {
   "cell_type": "code",
   "execution_count": 3,
   "metadata": {},
   "outputs": [
    {
     "name": "stderr",
     "output_type": "stream",
     "text": [
      "/home/joseterr/.local/lib/python3.10/site-packages/langchain_core/_api/deprecation.py:139: LangChainDeprecationWarning: The class `HuggingFaceEmbeddings` was deprecated in LangChain 0.2.2 and will be removed in 0.3.0. An updated version of the class exists in the langchain-huggingface package and should be used instead. To use it run `pip install -U langchain-huggingface` and import as `from langchain_huggingface import HuggingFaceEmbeddings`.\n",
      "  warn_deprecated(\n",
      "/home/joseterr/.local/lib/python3.10/site-packages/sentence_transformers/cross_encoder/CrossEncoder.py:11: TqdmWarning: IProgress not found. Please update jupyter and ipywidgets. See https://ipywidgets.readthedocs.io/en/stable/user_install.html\n",
      "  from tqdm.autonotebook import tqdm, trange\n",
      "/home/joseterr/.local/lib/python3.10/site-packages/transformers/tokenization_utils_base.py:1601: FutureWarning: `clean_up_tokenization_spaces` was not set. It will be set to `True` by default. This behavior will be depracted in transformers v4.45, and will be then set to `False` by default. For more details check this issue: https://github.com/huggingface/transformers/issues/31884\n",
      "  warnings.warn(\n"
     ]
    }
   ],
   "source": [
    "model_name = \"sentence-transformers/all-MiniLM-L6-v2\"\n",
    "embeddings = HuggingFaceEmbeddings(model_name=model_name)\n",
    "vectorstore = Vectorstore(embeddings=embeddings, save=False)\n",
    "pdf_docs = ['./Documents/Analisis-COP3-Escazu_ONG-CEUS-Chile.pdf']\n",
    "store_name = 'test_vectorstore'\n",
    "vecs = vectorstore.generate_vectorstore(pdf_docs, store_name, chunk_size=2500, chunk_overlap=300)"
   ]
  },
  {
   "cell_type": "code",
   "execution_count": 4,
   "metadata": {},
   "outputs": [],
   "source": [
    "llm = ChatAnthropic(model='claude-3-haiku-20240307', temperature=0.3)\n",
    "qa_chain = QAGeneration(llm=llm)"
   ]
  },
  {
   "cell_type": "code",
   "execution_count": 5,
   "metadata": {},
   "outputs": [],
   "source": [
    "input_text = 'acciones por el cambio'\n",
    "chunks_similarities = vecs.similarity_search(input_text, k=10)\n",
    "qa_generated = []\n",
    "for chunk in chunks_similarities:\n",
    "    resp = qa_chain.chain.invoke(chunk.page_content)\n",
    "    text = resp['text']\n",
    "    question = resp['questions']['question']\n",
    "    answer = resp['questions']['answer']\n",
    "    qa_generated.append({'text': text, 'question': question, 'answer': answer})"
   ]
  },
  {
   "cell_type": "code",
   "execution_count": 7,
   "metadata": {},
   "outputs": [
    {
     "data": {
      "text/plain": [
       "{'text': 'dares introducidos por Escazú, pese a que no todo país haya firmado y ratificado el\\nacuerdo. La CIDH debe interpretar derechos de acceso de manera evolutiva dentro\\nde la convención interamericana, por lo cual la sociedad civil ha buscado poder in-\\ntegrar las ideas desarrolladas en el Acuerdo de Escazú. Aquello, al argumentar que\\nel acuerdo es evidencia de un creciente consenso respecto a derechos de acceso en\\nmateria medioambiental. Durante el mes de abril y mayo la sociedad civil empujó al\\nreconocimiento de estas materias a través de la función consultiva de la CIDH para\\nintegrar la opinión pública. Se realizó una submission a través de un amicus sobre la\\nrelación de estado con personas, organizaciones, y grupos defensores del ambiente.\\nLa pre-COP fue un lugar en el que se discutió mucho de cómo debe haber un ánimo\\nde no contravenir el espíritu del acuerdo por los Estados Parte, en especial en lo\\nrelacionado con las obligaciones establecidas en el artículo 9. Se espera que la CIDH\\nfacilite el cumplimiento de aquellas obligaciones.INFORME DE SEGUIMIENTO: PRE-COP Y COP3\\n2.COP3 DE ESCAZÚ\\n2.1. ANÁLISIS GENERAL DE LA COP3 DE ESCAZÚ\\nLa COP3 de Escazú resultó ser una instancia clave dentro del marco del acuerdo, en\\ntanto instó el inicio de la implementación plena del Acuerdo de Escazú. Se puede\\napreciarquealolargodelosaños,yalavistadelcontextoqueinstigóenprimerlugar\\nla negociación de este acuerdo, las problemáticas relacionadas al acuerdo de Escazú\\nse han profundizado. En la medida que el mundo clama por una transición verde\\ny descarbonización, se puede apreciar la manera en la cual los grandes emisores\\nbuscan mecanismos de mitigación, en gran medida a costa de países del sur global.\\nAsí, el empuje por minerales como el litio han generado nuevos conflictos socioam-\\nbientales en Latinoamérica y el Caribe, en tanto en muchos casos no se ha llevado a\\ncabo el debido proceso de evaluación de impacto ambiental. En este contexto en el\\nque se agudiza el extractivismo en la región, los derechos procedimentales cobran\\nespecial importancia. La posibilidad de tener la información completa respecto a\\nproyectos extractivos, y lograr llegar a las instancias de justicia apropiadas para litigar\\nal respecto, son vitales dentro de la sociedad. Así mismo, se ha visto un aumento en\\nla violencia a defensoras y defensores ambientales (Hines, 2022), ámbito en el cual\\nel Acuerdo de Escazú se pronuncia a través de su art. 9 (Comisión Económica para',\n",
       " 'question': '¿Cuál es el objetivo principal del Acuerdo de Escazú según el texto?',\n",
       " 'answer': 'El objetivo principal del Acuerdo de Escazú es facilitar el cumplimiento de las obligaciones establecidas en el artículo 9, especialmente en lo relacionado con la protección de defensores ambientales.'}"
      ]
     },
     "execution_count": 7,
     "metadata": {},
     "output_type": "execute_result"
    }
   ],
   "source": [
    "qa_generated[0]"
   ]
  },
  {
   "cell_type": "code",
   "execution_count": 8,
   "metadata": {},
   "outputs": [],
   "source": [
    "llm = ChatAnthropic(model='claude-3-haiku-20240307', temperature=0.3)\n",
    "eval_chain = QAContextEval(llm=llm)\n",
    "i = 0\n",
    "\n",
    "\n",
    "context = qa_generated[i]['text']\n",
    "query = qa_generated[i]['question']\n",
    "result = 'Comprar mineras'\n",
    "resp = eval_chain.evaluate(query, context, result)\n",
    "resp"
   ]
  }
 ],
 "metadata": {
  "kernelspec": {
   "display_name": "env_langchain",
   "language": "python",
   "name": "python3"
  },
  "language_info": {
   "codemirror_mode": {
    "name": "ipython",
    "version": 3
   },
   "file_extension": ".py",
   "mimetype": "text/x-python",
   "name": "python",
   "nbconvert_exporter": "python",
   "pygments_lexer": "ipython3",
   "version": "3.10.12"
  },
  "orig_nbformat": 4
 },
 "nbformat": 4,
 "nbformat_minor": 2
}
